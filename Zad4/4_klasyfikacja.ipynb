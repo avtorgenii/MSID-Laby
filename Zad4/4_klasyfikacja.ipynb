{
 "cells": [
  {
   "attachments": {},
   "cell_type": "markdown",
   "metadata": {
    "id": "cl7f8AwaBSI5"
   },
   "source": [
    "### Regresja przy użyciu biblioteki sklearn"
   ]
  },
  {
   "cell_type": "markdown",
   "metadata": {},
   "source": [
    "Pobierzmy ponownie zbiór znany z poprzednich laboratoriów."
   ]
  },
  {
   "cell_type": "code",
   "execution_count": 2,
   "metadata": {
    "ExecuteTime": {
     "end_time": "2024-05-24T14:54:03.108837Z",
     "start_time": "2024-05-24T14:54:02.028387Z"
    }
   },
   "outputs": [
    {
     "name": "stdout",
     "output_type": "stream",
     "text": [
      "Plik GDP_happiness.csv już jest na dysku\n"
     ]
    },
    {
     "data": {
      "text/plain": "                GDP per capita  happiness\nBelgium             133.000000      6.864\nBulgaria             28.200000      5.102\nCzech Republic       67.400000      6.911\nDenmark             172.500000      7.646\nGermany             133.200000      7.076\nEstonia              68.100000      6.022\nIreland             231.900000      7.094\nGreece               54.900000      5.515\nSpain                84.800000      6.401\nFrance              115.400000      6.664\nCroatia              42.800000      5.505\nItaly                95.200000      6.387\nCyprus               81.200000      6.159\nLithuania            56.000000      6.215\nLuxembourg          327.900000      7.238\nHungary              48.000000      6.000\nMalta                85.600000      6.773\nNetherlands         149.900000      7.449\nAustria             143.700000      7.294\nPoland               44.500000      6.186\nPortugal             66.500000      5.911\nRomania              37.000000      6.124\nSlovenia             74.300000      6.363\nSlovakia             55.200000      6.281\nFinland             139.800000      7.809\nSweden              148.100000      7.353\nGreat Britain       121.200000      7.165\nIceland             195.700000      7.504\nNorway              217.300000      7.488\nSwitzerland         244.500000      7.560\nMontenegro           25.500000      5.546\nAlbania              15.300000      4.883\nSerbia               21.200000      5.778\nTurkey               26.400000      5.132\nLatvia              104.476471      5.950",
      "text/html": "<div>\n<style scoped>\n    .dataframe tbody tr th:only-of-type {\n        vertical-align: middle;\n    }\n\n    .dataframe tbody tr th {\n        vertical-align: top;\n    }\n\n    .dataframe thead th {\n        text-align: right;\n    }\n</style>\n<table border=\"1\" class=\"dataframe\">\n  <thead>\n    <tr style=\"text-align: right;\">\n      <th></th>\n      <th>GDP per capita</th>\n      <th>happiness</th>\n    </tr>\n  </thead>\n  <tbody>\n    <tr>\n      <th>Belgium</th>\n      <td>133.000000</td>\n      <td>6.864</td>\n    </tr>\n    <tr>\n      <th>Bulgaria</th>\n      <td>28.200000</td>\n      <td>5.102</td>\n    </tr>\n    <tr>\n      <th>Czech Republic</th>\n      <td>67.400000</td>\n      <td>6.911</td>\n    </tr>\n    <tr>\n      <th>Denmark</th>\n      <td>172.500000</td>\n      <td>7.646</td>\n    </tr>\n    <tr>\n      <th>Germany</th>\n      <td>133.200000</td>\n      <td>7.076</td>\n    </tr>\n    <tr>\n      <th>Estonia</th>\n      <td>68.100000</td>\n      <td>6.022</td>\n    </tr>\n    <tr>\n      <th>Ireland</th>\n      <td>231.900000</td>\n      <td>7.094</td>\n    </tr>\n    <tr>\n      <th>Greece</th>\n      <td>54.900000</td>\n      <td>5.515</td>\n    </tr>\n    <tr>\n      <th>Spain</th>\n      <td>84.800000</td>\n      <td>6.401</td>\n    </tr>\n    <tr>\n      <th>France</th>\n      <td>115.400000</td>\n      <td>6.664</td>\n    </tr>\n    <tr>\n      <th>Croatia</th>\n      <td>42.800000</td>\n      <td>5.505</td>\n    </tr>\n    <tr>\n      <th>Italy</th>\n      <td>95.200000</td>\n      <td>6.387</td>\n    </tr>\n    <tr>\n      <th>Cyprus</th>\n      <td>81.200000</td>\n      <td>6.159</td>\n    </tr>\n    <tr>\n      <th>Lithuania</th>\n      <td>56.000000</td>\n      <td>6.215</td>\n    </tr>\n    <tr>\n      <th>Luxembourg</th>\n      <td>327.900000</td>\n      <td>7.238</td>\n    </tr>\n    <tr>\n      <th>Hungary</th>\n      <td>48.000000</td>\n      <td>6.000</td>\n    </tr>\n    <tr>\n      <th>Malta</th>\n      <td>85.600000</td>\n      <td>6.773</td>\n    </tr>\n    <tr>\n      <th>Netherlands</th>\n      <td>149.900000</td>\n      <td>7.449</td>\n    </tr>\n    <tr>\n      <th>Austria</th>\n      <td>143.700000</td>\n      <td>7.294</td>\n    </tr>\n    <tr>\n      <th>Poland</th>\n      <td>44.500000</td>\n      <td>6.186</td>\n    </tr>\n    <tr>\n      <th>Portugal</th>\n      <td>66.500000</td>\n      <td>5.911</td>\n    </tr>\n    <tr>\n      <th>Romania</th>\n      <td>37.000000</td>\n      <td>6.124</td>\n    </tr>\n    <tr>\n      <th>Slovenia</th>\n      <td>74.300000</td>\n      <td>6.363</td>\n    </tr>\n    <tr>\n      <th>Slovakia</th>\n      <td>55.200000</td>\n      <td>6.281</td>\n    </tr>\n    <tr>\n      <th>Finland</th>\n      <td>139.800000</td>\n      <td>7.809</td>\n    </tr>\n    <tr>\n      <th>Sweden</th>\n      <td>148.100000</td>\n      <td>7.353</td>\n    </tr>\n    <tr>\n      <th>Great Britain</th>\n      <td>121.200000</td>\n      <td>7.165</td>\n    </tr>\n    <tr>\n      <th>Iceland</th>\n      <td>195.700000</td>\n      <td>7.504</td>\n    </tr>\n    <tr>\n      <th>Norway</th>\n      <td>217.300000</td>\n      <td>7.488</td>\n    </tr>\n    <tr>\n      <th>Switzerland</th>\n      <td>244.500000</td>\n      <td>7.560</td>\n    </tr>\n    <tr>\n      <th>Montenegro</th>\n      <td>25.500000</td>\n      <td>5.546</td>\n    </tr>\n    <tr>\n      <th>Albania</th>\n      <td>15.300000</td>\n      <td>4.883</td>\n    </tr>\n    <tr>\n      <th>Serbia</th>\n      <td>21.200000</td>\n      <td>5.778</td>\n    </tr>\n    <tr>\n      <th>Turkey</th>\n      <td>26.400000</td>\n      <td>5.132</td>\n    </tr>\n    <tr>\n      <th>Latvia</th>\n      <td>104.476471</td>\n      <td>5.950</td>\n    </tr>\n  </tbody>\n</table>\n</div>"
     },
     "metadata": {},
     "output_type": "display_data"
    }
   ],
   "source": [
    "import urllib.request\n",
    "import os\n",
    "\n",
    "import matplotlib.pyplot as plt\n",
    "import numpy as np\n",
    "import pandas as pd\n",
    "\n",
    "\n",
    "plik = 'GDP_happiness.csv'\n",
    "URL = \"https://byes.pl/wp-content/uploads/datasets/\" + plik\n",
    "if not os.path.isfile(plik):\n",
    "    print('Pobieram plik z ', URL)\n",
    "    urllib.request.urlretrieve(URL, plik)\n",
    "    print('Pobrano plik')\n",
    "else:\n",
    "    print(f'Plik {plik} już jest na dysku')\n",
    "\n",
    "dane = pd.read_csv(plik, index_col=[0])\n",
    "dane = dane.fillna(dane.mean(axis=0))\n",
    "dane.tail()\n",
    "\n",
    "display(dane)\n",
    "\n",
    "X = dane['GDP per capita'].values\n",
    "Y = dane['happiness'].values"
   ]
  },
  {
   "cell_type": "markdown",
   "metadata": {
    "id": "yVRGejydlYbm"
   },
   "source": [
    "### Metody z biblioteki [Scikit-learn](https://scikit-learn.org/stable/)"
   ]
  },
  {
   "attachments": {},
   "cell_type": "markdown",
   "metadata": {
    "id": "Bq39cjsZtKgy"
   },
   "source": [
    "Metody uczenia maszynowego, czy to do klasyfikacji, regresji, grupowania, czy dopasowywania rozkładów do danych, dostępne w bibliotece Scikit-learn nazywane są - nie wiedzieć czemu - *estymatorami*. <br>\n",
    "Sposób korzystania z każdego estymatora został ujednolicony. Oto przykład regresji liniowej."
   ]
  },
  {
   "cell_type": "code",
   "execution_count": 3,
   "metadata": {
    "id": "unrPWt1sll55",
    "ExecuteTime": {
     "end_time": "2024-05-24T14:54:04.353338Z",
     "start_time": "2024-05-24T14:54:03.109833Z"
    }
   },
   "outputs": [],
   "source": [
    "from sklearn.linear_model import LinearRegression"
   ]
  },
  {
   "cell_type": "markdown",
   "metadata": {
    "id": "_doi8LQgvP6p"
   },
   "source": [
    "2. Utworzenie instancji"
   ]
  },
  {
   "cell_type": "code",
   "execution_count": 4,
   "metadata": {
    "id": "2osyzJ77vkfy",
    "ExecuteTime": {
     "end_time": "2024-05-24T14:54:04.358768Z",
     "start_time": "2024-05-24T14:54:04.354335Z"
    }
   },
   "outputs": [],
   "source": [
    "model_lin = LinearRegression()"
   ]
  },
  {
   "cell_type": "markdown",
   "metadata": {
    "id": "fvviY4h0v0Tn"
   },
   "source": [
    "3. Dopasowanie *estymatora* do danych metodą ```fit```: patrz komentarz pod algorytmem (4)."
   ]
  },
  {
   "cell_type": "code",
   "execution_count": 5,
   "metadata": {
    "colab": {
     "base_uri": "https://localhost:8080/"
    },
    "id": "XwnQXeeNwIib",
    "outputId": "a74807c2-7419-47e0-d801-72ddcd95d384",
    "ExecuteTime": {
     "end_time": "2024-05-24T14:54:04.442345Z",
     "start_time": "2024-05-24T14:54:04.359750Z"
    }
   },
   "outputs": [
    {
     "data": {
      "text/plain": "LinearRegression()",
      "text/html": "<style>#sk-container-id-1 {color: black;}#sk-container-id-1 pre{padding: 0;}#sk-container-id-1 div.sk-toggleable {background-color: white;}#sk-container-id-1 label.sk-toggleable__label {cursor: pointer;display: block;width: 100%;margin-bottom: 0;padding: 0.3em;box-sizing: border-box;text-align: center;}#sk-container-id-1 label.sk-toggleable__label-arrow:before {content: \"▸\";float: left;margin-right: 0.25em;color: #696969;}#sk-container-id-1 label.sk-toggleable__label-arrow:hover:before {color: black;}#sk-container-id-1 div.sk-estimator:hover label.sk-toggleable__label-arrow:before {color: black;}#sk-container-id-1 div.sk-toggleable__content {max-height: 0;max-width: 0;overflow: hidden;text-align: left;background-color: #f0f8ff;}#sk-container-id-1 div.sk-toggleable__content pre {margin: 0.2em;color: black;border-radius: 0.25em;background-color: #f0f8ff;}#sk-container-id-1 input.sk-toggleable__control:checked~div.sk-toggleable__content {max-height: 200px;max-width: 100%;overflow: auto;}#sk-container-id-1 input.sk-toggleable__control:checked~label.sk-toggleable__label-arrow:before {content: \"▾\";}#sk-container-id-1 div.sk-estimator input.sk-toggleable__control:checked~label.sk-toggleable__label {background-color: #d4ebff;}#sk-container-id-1 div.sk-label input.sk-toggleable__control:checked~label.sk-toggleable__label {background-color: #d4ebff;}#sk-container-id-1 input.sk-hidden--visually {border: 0;clip: rect(1px 1px 1px 1px);clip: rect(1px, 1px, 1px, 1px);height: 1px;margin: -1px;overflow: hidden;padding: 0;position: absolute;width: 1px;}#sk-container-id-1 div.sk-estimator {font-family: monospace;background-color: #f0f8ff;border: 1px dotted black;border-radius: 0.25em;box-sizing: border-box;margin-bottom: 0.5em;}#sk-container-id-1 div.sk-estimator:hover {background-color: #d4ebff;}#sk-container-id-1 div.sk-parallel-item::after {content: \"\";width: 100%;border-bottom: 1px solid gray;flex-grow: 1;}#sk-container-id-1 div.sk-label:hover label.sk-toggleable__label {background-color: #d4ebff;}#sk-container-id-1 div.sk-serial::before {content: \"\";position: absolute;border-left: 1px solid gray;box-sizing: border-box;top: 0;bottom: 0;left: 50%;z-index: 0;}#sk-container-id-1 div.sk-serial {display: flex;flex-direction: column;align-items: center;background-color: white;padding-right: 0.2em;padding-left: 0.2em;position: relative;}#sk-container-id-1 div.sk-item {position: relative;z-index: 1;}#sk-container-id-1 div.sk-parallel {display: flex;align-items: stretch;justify-content: center;background-color: white;position: relative;}#sk-container-id-1 div.sk-item::before, #sk-container-id-1 div.sk-parallel-item::before {content: \"\";position: absolute;border-left: 1px solid gray;box-sizing: border-box;top: 0;bottom: 0;left: 50%;z-index: -1;}#sk-container-id-1 div.sk-parallel-item {display: flex;flex-direction: column;z-index: 1;position: relative;background-color: white;}#sk-container-id-1 div.sk-parallel-item:first-child::after {align-self: flex-end;width: 50%;}#sk-container-id-1 div.sk-parallel-item:last-child::after {align-self: flex-start;width: 50%;}#sk-container-id-1 div.sk-parallel-item:only-child::after {width: 0;}#sk-container-id-1 div.sk-dashed-wrapped {border: 1px dashed gray;margin: 0 0.4em 0.5em 0.4em;box-sizing: border-box;padding-bottom: 0.4em;background-color: white;}#sk-container-id-1 div.sk-label label {font-family: monospace;font-weight: bold;display: inline-block;line-height: 1.2em;}#sk-container-id-1 div.sk-label-container {text-align: center;}#sk-container-id-1 div.sk-container {/* jupyter's `normalize.less` sets `[hidden] { display: none; }` but bootstrap.min.css set `[hidden] { display: none !important; }` so we also need the `!important` here to be able to override the default hidden behavior on the sphinx rendered scikit-learn.org. See: https://github.com/scikit-learn/scikit-learn/issues/21755 */display: inline-block !important;position: relative;}#sk-container-id-1 div.sk-text-repr-fallback {display: none;}</style><div id=\"sk-container-id-1\" class=\"sk-top-container\"><div class=\"sk-text-repr-fallback\"><pre>LinearRegression()</pre><b>In a Jupyter environment, please rerun this cell to show the HTML representation or trust the notebook. <br />On GitHub, the HTML representation is unable to render, please try loading this page with nbviewer.org.</b></div><div class=\"sk-container\" hidden><div class=\"sk-item\"><div class=\"sk-estimator sk-toggleable\"><input class=\"sk-toggleable__control sk-hidden--visually\" id=\"sk-estimator-id-1\" type=\"checkbox\" checked><label for=\"sk-estimator-id-1\" class=\"sk-toggleable__label sk-toggleable__label-arrow\">LinearRegression</label><div class=\"sk-toggleable__content\"><pre>LinearRegression()</pre></div></div></div></div></div>"
     },
     "execution_count": 5,
     "metadata": {},
     "output_type": "execute_result"
    }
   ],
   "source": [
    "model_lin.fit(X.reshape(-1,1), Y)"
   ]
  },
  {
   "cell_type": "markdown",
   "metadata": {
    "id": "p65CUcgmygea"
   },
   "source": [
    "4. Obliczenia/predykcje z wykorzystaniem metody ```predict``` *estymatora*"
   ]
  },
  {
   "cell_type": "code",
   "execution_count": 6,
   "metadata": {
    "colab": {
     "base_uri": "https://localhost:8080/",
     "height": 279
    },
    "id": "N5zkWAU7xCxr",
    "outputId": "d0e06064-25c9-4a39-bc6a-11533b009897",
    "ExecuteTime": {
     "end_time": "2024-05-24T14:54:04.592994Z",
     "start_time": "2024-05-24T14:54:04.443852Z"
    }
   },
   "outputs": [
    {
     "data": {
      "text/plain": "<Figure size 640x480 with 1 Axes>",
      "image/png": "[encoded data removed]"
     },
     "metadata": {},
     "output_type": "display_data"
    }
   ],
   "source": [
    "X_test = np.linspace(start=X.min(), stop=X.max(), num=300)\n",
    "Y_pred = model_lin.predict(X_test.reshape(-1,1))\n",
    "\n",
    "plt.scatter(X,Y, alpha=0.7)\n",
    "plt.plot(X_test, Y_pred, color='tab:orange', linewidth=3)\n",
    "plt.xlabel('x')\n",
    "plt.ylabel('y')\n",
    "plt.show()"
   ]
  },
  {
   "attachments": {},
   "cell_type": "markdown",
   "metadata": {
    "id": "mmeipMdSDnEh"
   },
   "source": [
    "Można też sprawdzić wartości parametrów otrzymanego modelu liniowego."
   ]
  },
  {
   "cell_type": "code",
   "execution_count": 7,
   "metadata": {
    "colab": {
     "base_uri": "https://localhost:8080/"
    },
    "id": "bXloVGWlD1a_",
    "outputId": "e515abad-7d2d-41cd-fd4d-2753f0bef54c",
    "ExecuteTime": {
     "end_time": "2024-05-24T14:54:04.598338Z",
     "start_time": "2024-05-24T14:54:04.593997Z"
    }
   },
   "outputs": [
    {
     "name": "stdout",
     "output_type": "stream",
     "text": [
      "Parametry modelu liniowego: a = [0.0088], b = 5.57619\n"
     ]
    }
   ],
   "source": [
    "print(f'Parametry modelu liniowego: a = {np.round(model_lin.coef_,5)}, b = {np.round(model_lin.intercept_,5)}')"
   ]
  },
  {
   "cell_type": "markdown",
   "metadata": {
    "id": "O1R1BQDF0Xbf"
   },
   "source": [
    "Oto inne ważne czynności, które wykonuje się w ramach dopasowywania modelu do danych."
   ]
  },
  {
   "cell_type": "markdown",
   "metadata": {
    "id": "kBRTer200rhs"
   },
   "source": [
    "Podział zbioru na część do trenowania i testowania"
   ]
  },
  {
   "cell_type": "code",
   "execution_count": 8,
   "metadata": {
    "id": "FgeDrvSDy45s",
    "ExecuteTime": {
     "end_time": "2024-05-24T14:54:04.604401Z",
     "start_time": "2024-05-24T14:54:04.599339Z"
    }
   },
   "outputs": [
    {
     "name": "stdout",
     "output_type": "stream",
     "text": [
      "(26,) (9,) (26,) (9,)\n"
     ]
    }
   ],
   "source": [
    "from sklearn.model_selection import train_test_split\n",
    "\n",
    "X_train, X_test, Y_train, Y_test = train_test_split(X, Y)\n",
    "print(X_train.shape, X_test.shape, Y_train.shape, Y_test.shape)"
   ]
  },
  {
   "attachments": {},
   "cell_type": "markdown",
   "metadata": {
    "id": "XDPNP_lX05NR"
   },
   "source": [
    "\n",
    "Wskaźnik jakości modelu:"
   ]
  },
  {
   "cell_type": "code",
   "execution_count": 9,
   "metadata": {
    "colab": {
     "base_uri": "https://localhost:8080/"
    },
    "id": "r_btep5W02XV",
    "outputId": "16b4828b-99f6-4d41-8e25-6543b8c57f05",
    "ExecuteTime": {
     "end_time": "2024-05-24T14:54:04.612263Z",
     "start_time": "2024-05-24T14:54:04.605403Z"
    }
   },
   "outputs": [
    {
     "data": {
      "text/plain": "0.22434100888001982"
     },
     "execution_count": 9,
     "metadata": {},
     "output_type": "execute_result"
    }
   ],
   "source": [
    "from sklearn.metrics import mean_squared_error\n",
    "\n",
    "mean_squared_error(Y, model_lin.predict(X.reshape(-1,1)))"
   ]
  },
  {
   "attachments": {},
   "cell_type": "markdown",
   "metadata": {},
   "source": [
    "**Ćwiczenie 1:** Korzystając z dokumentacji sklearn oblicz dla powyższych danych pierwiastek błędu średniokwadratowego (ang. root mean square error)."
   ]
  },
  {
   "cell_type": "code",
   "execution_count": 10,
   "metadata": {
    "ExecuteTime": {
     "end_time": "2024-05-24T14:54:04.618759Z",
     "start_time": "2024-05-24T14:54:04.613266Z"
    }
   },
   "outputs": [
    {
     "data": {
      "text/plain": "0.4736465020244737"
     },
     "execution_count": 10,
     "metadata": {},
     "output_type": "execute_result"
    }
   ],
   "source": [
    "mean_squared_error(Y, model_lin.predict(X.reshape(-1,1)), squared=False)"
   ]
  },
  {
   "attachments": {},
   "cell_type": "markdown",
   "metadata": {
    "id": "M3TtxyfS2Enx"
   },
   "source": [
    "Oto **przykład** demonstrujący jednolitość obsługi *estymatorów* biblioteki Scikit-learn:"
   ]
  },
  {
   "cell_type": "code",
   "execution_count": 11,
   "metadata": {
    "colab": {
     "base_uri": "https://localhost:8080/",
     "height": 577
    },
    "id": "0K_CNSM31Cag",
    "outputId": "4f9b3cf8-cc46-4179-953e-502fbd86940e",
    "ExecuteTime": {
     "end_time": "2024-05-24T14:54:04.628511Z",
     "start_time": "2024-05-24T14:54:04.619752Z"
    }
   },
   "outputs": [
    {
     "name": "stdout",
     "output_type": "stream",
     "text": [
      "Parametry modelu liniowego: [0.00889], 5.52227\n",
      "Błąd średniokwadratowy modelu liniowego: 0.124\n"
     ]
    }
   ],
   "source": [
    "X = dane['GDP per capita'].values\n",
    "Y = dane['happiness'].values\n",
    "\n",
    "X_train, X_test, Y_train, Y_test = train_test_split(X, Y)\n",
    "\n",
    "\n",
    "# =========  Model liniowy =========\n",
    "from sklearn.linear_model import LinearRegression\n",
    "model_lin = LinearRegression()\n",
    "model_lin.fit(X_train.reshape(-1,1), Y_train)\n",
    "\n",
    "print(f'Parametry modelu liniowego: {np.round(model_lin.coef_,5)}, {np.round(model_lin.intercept_,5)}')\n",
    "MSE_lin = mean_squared_error(Y_test, model_lin.predict(X_test.reshape(-1,1)))\n",
    "print(f'Błąd średniokwadratowy modelu liniowego: {MSE_lin:0.3}\\n')\n"
   ]
  },
  {
   "cell_type": "code",
   "execution_count": 12,
   "metadata": {
    "ExecuteTime": {
     "end_time": "2024-05-24T14:54:04.639099Z",
     "start_time": "2024-05-24T14:54:04.629372Z"
    }
   },
   "outputs": [
    {
     "name": "stdout",
     "output_type": "stream",
     "text": [
      "[[1.00000000e+00 2.55000000e+01 6.50250000e+02]\n",
      " [1.00000000e+00 5.49000000e+01 3.01401000e+03]\n",
      " [1.00000000e+00 1.43700000e+02 2.06496900e+04]\n",
      " [1.00000000e+00 1.49900000e+02 2.24700100e+04]\n",
      " [1.00000000e+00 1.33200000e+02 1.77422400e+04]\n",
      " [1.00000000e+00 2.64000000e+01 6.96960000e+02]\n",
      " [1.00000000e+00 1.39800000e+02 1.95440400e+04]\n",
      " [1.00000000e+00 1.04476471e+02 1.09153329e+04]\n",
      " [1.00000000e+00 3.70000000e+01 1.36900000e+03]\n",
      " [1.00000000e+00 1.95700000e+02 3.82984900e+04]\n",
      " [1.00000000e+00 9.52000000e+01 9.06304000e+03]\n",
      " [1.00000000e+00 1.72500000e+02 2.97562500e+04]\n",
      " [1.00000000e+00 7.43000000e+01 5.52049000e+03]\n",
      " [1.00000000e+00 2.17300000e+02 4.72192900e+04]\n",
      " [1.00000000e+00 4.28000000e+01 1.83184000e+03]\n",
      " [1.00000000e+00 2.82000000e+01 7.95240000e+02]\n",
      " [1.00000000e+00 1.48100000e+02 2.19336100e+04]\n",
      " [1.00000000e+00 1.53000000e+01 2.34090000e+02]\n",
      " [1.00000000e+00 3.27900000e+02 1.07518410e+05]\n",
      " [1.00000000e+00 4.45000000e+01 1.98025000e+03]\n",
      " [1.00000000e+00 8.56000000e+01 7.32736000e+03]\n",
      " [1.00000000e+00 8.48000000e+01 7.19104000e+03]\n",
      " [1.00000000e+00 5.60000000e+01 3.13600000e+03]\n",
      " [1.00000000e+00 2.12000000e+01 4.49440000e+02]\n",
      " [1.00000000e+00 2.31900000e+02 5.37776100e+04]\n",
      " [1.00000000e+00 2.44500000e+02 5.97802500e+04]]\n",
      "Parametry modelu GLM: [ 0.      0.0241 -0.0001], 4.81741\n",
      "Błąd średniokwadratowy modelu GLM: 0.105\n"
     ]
    }
   ],
   "source": [
    "# ===== Uogólniony model liniowy (ang. Generalized Linear Model) =====\n",
    "from sklearn.preprocessing import PolynomialFeatures\n",
    "model_GLM = LinearRegression()\n",
    "gen_features = PolynomialFeatures(degree=2, include_bias=True, interaction_only=False)\n",
    "model_GLM.fit(gen_features.fit_transform(X_train.reshape(-1,1)), Y_train)\n",
    "\n",
    "print(gen_features.fit_transform(X_train.reshape(-1,1)))\n",
    "\n",
    "print(f'Parametry modelu GLM: {np.round(model_GLM.coef_,4)}, {np.round(model_GLM.intercept_,5)}')\n",
    "MSE_GLM = mean_squared_error(Y_test, model_GLM.predict(gen_features.fit_transform(X_test.reshape(-1,1))))\n",
    "print(f'Błąd średniokwadratowy modelu GLM: {MSE_GLM:0.3}\\n')"
   ]
  },
  {
   "cell_type": "code",
   "execution_count": 13,
   "metadata": {
    "ExecuteTime": {
     "end_time": "2024-05-24T14:54:04.647624Z",
     "start_time": "2024-05-24T14:54:04.640102Z"
    }
   },
   "outputs": [
    {
     "name": "stdout",
     "output_type": "stream",
     "text": [
      "Błąd średniokwadratowy modelu SVR: 0.109\n"
     ]
    }
   ],
   "source": [
    "#==== Maszyna wektorów wspierających (ang. Support Vector Machine) ====\n",
    "# SVR dla regresji, SVC dla klasyfikacji\n",
    "from sklearn.svm import SVR\n",
    "model_svr = SVR(kernel='rbf', gamma='scale', C=1)\n",
    "\n",
    "model_svr.fit(X_train.reshape(-1,1), Y_train)\n",
    "MSE_SVR = mean_squared_error(Y_test, model_svr.predict(X_test.reshape(-1,1)))\n",
    "print(f'Błąd średniokwadratowy modelu SVR: {MSE_SVR:0.3}')"
   ]
  },
  {
   "cell_type": "code",
   "execution_count": 14,
   "metadata": {
    "ExecuteTime": {
     "end_time": "2024-05-24T14:54:04.834269Z",
     "start_time": "2024-05-24T14:54:04.648626Z"
    }
   },
   "outputs": [
    {
     "data": {
      "text/plain": "<Figure size 1000x700 with 1 Axes>",
      "image/png": "[encoded data removed]"
     },
     "metadata": {},
     "output_type": "display_data"
    }
   ],
   "source": [
    "# Predykcje wszystkich modeli dla całego zakresów osi X\n",
    "os_x = np.linspace(start=X.min(), stop=X.max(), num=300)\n",
    "y_lin_pred = model_lin.predict(os_x.reshape(-1,1))\n",
    "y_GLM_pred = model_GLM.predict(gen_features.fit_transform(os_x.reshape(-1,1)))\n",
    "y_svr_pred = model_svr.predict(os_x.reshape(-1,1))\n",
    "\n",
    "# Wizualizacja\n",
    "plt.figure(figsize=(10,7))\n",
    "plt.scatter(X_train, Y_train, label='dane treningowe', alpha=0.7)\n",
    "plt.scatter(X_test, Y_test, edgecolor='black', facecolor='none', label='dane testujące')\n",
    "plt.plot(os_x, y_lin_pred, label='model liniowy', color='tab:orange')\n",
    "plt.plot(os_x, y_GLM_pred, label=f'model GLM', color='tab:red')\n",
    "plt.plot(os_x, y_svr_pred, label='model SVR', color='tab:green')\n",
    "plt.xlabel(dane.columns[0], fontsize=14)\n",
    "plt.ylabel(dane.columns[1], fontsize=14)\n",
    "plt.legend(fontsize=12, shadow=True, loc='lower right')\n",
    "plt.ylim([Y.min()-0.1, Y.max()+0.5])\n",
    "plt.show()"
   ]
  },
  {
   "attachments": {},
   "cell_type": "markdown",
   "metadata": {
    "id": "foKbvjFLghLc"
   },
   "source": [
    "**Ćwiczenie 2:** Wykonaj wielokrotne dopasowania modeli do różnych podziałów zbioru danych na część do trenowania i do testowania. Wyciągnij wnioski. <br>\n",
    "Jak oceniasz adekwatność każdego z modeli, tzn. czy poprawnie opisuje tendencje obserwowane w danych? <br>\n",
    "Jaki kolejny model proponujesz rozważyć? <br>\n",
    "Jak można ocenić adekwatność modelu w przypadku danych wielowymiarowych?"
   ]
  },
  {
   "cell_type": "code",
   "execution_count": 15,
   "metadata": {
    "ExecuteTime": {
     "end_time": "2024-05-24T14:54:04.851558Z",
     "start_time": "2024-05-24T14:54:04.837272Z"
    }
   },
   "outputs": [
    {
     "name": "stdout",
     "output_type": "stream",
     "text": [
      "Parametry modelu liniowego: [0.00639], 6.05498\n",
      "Błąd średniokwadratowy modelu liniowego: 0.329\n",
      "\n",
      "Parametry modelu GLM: [ 0.      0.0687 -0.0002], 1.47338\n",
      "Błąd średniokwadratowy modelu GLM: 1.9\n",
      "\n",
      "Błąd średniokwadratowy modelu SVR: 0.726\n"
     ]
    }
   ],
   "source": [
    "# Najczęściej Rosnący test_size powoduje rosnące błędy\n",
    "# Model liniowy ocenia w najgorszy sposob, GLM jest najlepszym bo SVR na początku bardzo się myli\n",
    "# Dla regresji można byłoby spróbować sieć neuronową\n",
    "# Tylko przez metryki błędów\n",
    "\n",
    "\n",
    "X = dane['GDP per capita'].values\n",
    "Y = dane['happiness'].values\n",
    "\n",
    "X_train, X_test, Y_train, Y_test = train_test_split(X, Y, test_size=0.9)\n",
    "\n",
    "model_lin = LinearRegression()\n",
    "model_lin.fit(X_train.reshape(-1,1), Y_train)\n",
    "\n",
    "print(f'Parametry modelu liniowego: {np.round(model_lin.coef_,5)}, {np.round(model_lin.intercept_,5)}')\n",
    "MSE_lin = mean_squared_error(Y_test, model_lin.predict(X_test.reshape(-1,1)))\n",
    "print(f'Błąd średniokwadratowy modelu liniowego: {MSE_lin:0.3}\\n')\n",
    "\n",
    "\n",
    "\n",
    "model_GLM = LinearRegression()\n",
    "gen_features = PolynomialFeatures(degree=2, include_bias=True, interaction_only=False)\n",
    "model_GLM.fit(gen_features.fit_transform(X_train.reshape(-1,1)), Y_train)\n",
    "\n",
    "print(f'Parametry modelu GLM: {np.round(model_GLM.coef_,4)}, {np.round(model_GLM.intercept_,5)}')\n",
    "MSE_GLM = mean_squared_error(Y_test, model_GLM.predict(gen_features.fit_transform(X_test.reshape(-1,1))))\n",
    "print(f'Błąd średniokwadratowy modelu GLM: {MSE_GLM:0.3}\\n')\n",
    "\n",
    "\n",
    "\n",
    "model_svr = SVR(kernel='rbf', gamma='scale', C=1)\n",
    "\n",
    "model_svr.fit(X_train.reshape(-1,1), Y_train)\n",
    "MSE_SVR = mean_squared_error(Y_test, model_svr.predict(X_test.reshape(-1,1)))\n",
    "print(f'Błąd średniokwadratowy modelu SVR: {MSE_SVR:0.3}')"
   ]
  },
  {
   "attachments": {},
   "cell_type": "markdown",
   "metadata": {},
   "source": [
    "### Wykorzystanie SVM do zadania klasyfikacji na podstawie zbioru Iris\n",
    "W celu przetestowania maszyny wektorów nośnych na problemie klasyfikacji, pobierzmy zbiór Iris.\n",
    "\n",
    "Zbiór danych Iris zawiera pomiary cech trzech różnych gatunków roślin z rodzaju kosaciec (ang. iris). Zbiór ten zawiera cztery cechy dla każdego z 150 obserwowanych kwiatów - długość i szerokość działek kielicha oraz płatków oraz długość i szerokość słupka.\n",
    "\n",
    "Wszystkie wartości pomiarów zostały znormalizowane do jednostek centymetrów. Zbiór ten jest często wykorzystywany w zadaniach klasyfikacji i uczenia maszynowego jako przykład problemu wieloklasowej klasyfikacji.\n",
    "\n",
    "<!-- . It contains measurements of physical features of three species of iris flowers: Iris setosa, Iris versicolor, and Iris virginica. The measurements include the length and width of the petals and sepals of each flower, which were collected by the statistician Ronald Fisher in 1936. The dataset has become a classic example of data analysis and machine learning due to its simplicity and versatility, and is commonly used for classification tasks, data visualization, and exploratory data analysis. -->"
   ]
  },
  {
   "cell_type": "code",
   "execution_count": 16,
   "metadata": {
    "ExecuteTime": {
     "end_time": "2024-05-24T14:54:04.926220Z",
     "start_time": "2024-05-24T14:54:04.852560Z"
    }
   },
   "outputs": [],
   "source": [
    "from sklearn import datasets\n",
    "iris = datasets.load_iris()"
   ]
  },
  {
   "attachments": {},
   "cell_type": "markdown",
   "metadata": {},
   "source": [
    "Badania eksploracyjne mające na celu poznanie istoty problemu oraz zbadanie danych na jakich się opieramy to pierwszy krok do rozwiązania problemu"
   ]
  },
  {
   "cell_type": "code",
   "execution_count": 35,
   "metadata": {
    "ExecuteTime": {
     "end_time": "2024-05-24T14:54:18.842477Z",
     "start_time": "2024-05-24T14:54:18.839426Z"
    }
   },
   "outputs": [],
   "source": [
    "X = iris.data  # dane wejściowe\n",
    "Y = iris.target  # dane wyjściowe"
   ]
  },
  {
   "attachments": {},
   "cell_type": "markdown",
   "metadata": {},
   "source": [
    "**Ćwiczenie 3:** Wykonaj badania eksploracyjne (ang. exploratory data analysis) i odpowiedz na następujące pytania:\n",
    "1) z jakich danych składają się dane wejściowe i dane wyjściowe?\n",
    "2) jaka jest sumaryczna liczba próbek?\n",
    "3) jaka jest liczba różnych klas kwiatów?\n",
    "4) ile próbek zawiera każda z klas? Czy klasy są zbalansowane?\n",
    "5) jakie są średnia i odchylenie standardowe cechy `petal width (cm)`?"
   ]
  },
  {
   "cell_type": "code",
   "execution_count": 37,
   "metadata": {
    "ExecuteTime": {
     "end_time": "2024-05-24T14:54:21.997111Z",
     "start_time": "2024-05-24T14:54:21.992385Z"
    }
   },
   "outputs": [
    {
     "name": "stdout",
     "output_type": "stream",
     "text": [
      "<class 'sklearn.utils._bunch.Bunch'>\n",
      "<class 'numpy.ndarray'>\n",
      "<class 'numpy.ndarray'>\n",
      "150\n",
      "1.1993333333333336 0.7596926279021594\n"
     ]
    }
   ],
   "source": [
    "print(type(iris))\n",
    "\n",
    "print(type(X))\n",
    "print(type(Y))\n",
    "\n",
    "print(len(X))\n",
    "\n",
    "# Sumaryczna liczba próbek = 150\n",
    "# Liczba klas kwiatów = 3\n",
    "# Po 50 próbek każdej klasy\n",
    "# \n",
    "\n",
    "petal_widths = X[:, 3]\n",
    "\n",
    "# Oblicz średnią i odchylenie standardowe\n",
    "mean_petal_width = np.mean(petal_widths)\n",
    "std_petal_width = np.std(petal_widths)\n",
    "\n",
    "print(mean_petal_width, std_petal_width)"
   ]
  },
  {
   "attachments": {},
   "cell_type": "markdown",
   "metadata": {},
   "source": [
    "**Ćwiczenie 4:** Wykorzystaj metodę `train_test_split` i podziel zbiór danych na podzbiory treningowy oraz testowy w stosunku 75:25 z wykorzystaniem ziarna losowości o wartości 13 oraz wykorzystując przetasowanie (ang. shuffle) danych.\n"
   ]
  },
  {
   "cell_type": "code",
   "execution_count": 42,
   "metadata": {
    "ExecuteTime": {
     "end_time": "2024-05-24T14:54:59.939623Z",
     "start_time": "2024-05-24T14:54:59.933900Z"
    }
   },
   "outputs": [
    {
     "name": "stdout",
     "output_type": "stream",
     "text": [
      "(112, 4) (38, 4) (112,) (38,)\n"
     ]
    }
   ],
   "source": [
    "X_train, X_test, Y_train, Y_test = train_test_split(X, Y, test_size=0.25, random_state=13, shuffle=True) \n",
    "print(X_train.shape, X_test.shape, Y_train.shape, Y_test.shape)"
   ]
  },
  {
   "attachments": {},
   "cell_type": "markdown",
   "metadata": {},
   "source": [
    "W sklearn modele klasyfikacji tworzymy w analogiczny sposób jak modele regresji."
   ]
  },
  {
   "cell_type": "code",
   "execution_count": 45,
   "metadata": {
    "ExecuteTime": {
     "end_time": "2024-05-24T14:55:01.981416Z",
     "start_time": "2024-05-24T14:55:01.978409Z"
    }
   },
   "outputs": [],
   "source": [
    "from sklearn.svm import SVC\n",
    "clf = SVC(kernel='rbf')"
   ]
  },
  {
   "attachments": {},
   "cell_type": "markdown",
   "metadata": {},
   "source": [
    "Dobrą praktyką, zanim przekażemy dane do klasyfikatora, jest przeskalowanie ich.\n",
    "\n",
    "Ma to na celu zapewnienie równego znaczenia każdej z cech. Z racji, iż SVM próbuje znaleźć optymalną granicę decyzyjną, która separuje klasy w przestrzeni cech, to jeśli cechy wejściowe używają różnych skali, to niektóre z nich mogą mieć większy zakres wartości niż inne. To może powodować, że SVM położy większy nacisk na cechy o większych skalach, a więc nierównomiernie uwzględnieni (bardziej skupi się) poszczególne z nich w procesie uczenia.\n",
    "\n",
    "\n",
    "\n",
    "W tym celu wykorzystajmy API sklearn, a dokładniej klasę `StandardScaler`. Podobnie jak w przypadku modeli - tutaj również wywołujemy funkcję `fit()`."
   ]
  },
  {
   "cell_type": "code",
   "execution_count": 46,
   "metadata": {
    "ExecuteTime": {
     "end_time": "2024-05-24T14:55:03.743285Z",
     "start_time": "2024-05-24T14:55:03.738025Z"
    }
   },
   "outputs": [],
   "source": [
    "from sklearn.preprocessing import StandardScaler\n",
    "\n",
    "sc = StandardScaler()\n",
    "\n",
    "sc.fit(X_train)\n",
    "\n",
    "X_train_sc = sc.transform(X_train)\n",
    "X_test_sc = sc.transform(X_test)"
   ]
  },
  {
   "attachments": {},
   "cell_type": "markdown",
   "metadata": {},
   "source": [
    "**Ćwiczenie 5:** jak zmieniły się wartości poszczególnych cech po skalowaniu? "
   ]
  },
  {
   "cell_type": "code",
   "execution_count": 47,
   "metadata": {
    "ExecuteTime": {
     "end_time": "2024-05-24T14:55:05.464781Z",
     "start_time": "2024-05-24T14:55:05.455550Z"
    }
   },
   "outputs": [
    {
     "name": "stdout",
     "output_type": "stream",
     "text": [
      "[[6.2 2.2 4.5 1.5]\n",
      " [4.8 3.  1.4 0.1]\n",
      " [5.2 3.5 1.5 0.2]\n",
      " [6.1 2.6 5.6 1.4]\n",
      " [5.7 2.9 4.2 1.3]\n",
      " [7.2 3.2 6.  1.8]\n",
      " [6.5 3.2 5.1 2. ]\n",
      " [7.2 3.6 6.1 2.5]\n",
      " [5.1 3.4 1.5 0.2]\n",
      " [5.  2.3 3.3 1. ]\n",
      " [4.4 3.2 1.3 0.2]\n",
      " [6.5 2.8 4.6 1.5]\n",
      " [5.7 3.8 1.7 0.3]\n",
      " [5.7 3.  4.2 1.2]\n",
      " [5.9 3.2 4.8 1.8]\n",
      " [6.8 3.2 5.9 2.3]\n",
      " [4.9 3.1 1.5 0.1]\n",
      " [5.5 2.4 3.8 1.1]\n",
      " [4.7 3.2 1.6 0.2]\n",
      " [5.6 2.5 3.9 1.1]\n",
      " [6.4 2.7 5.3 1.9]\n",
      " [6.3 3.3 6.  2.5]\n",
      " [4.6 3.1 1.5 0.2]\n",
      " [5.  3.5 1.6 0.6]\n",
      " [6.3 2.9 5.6 1.8]\n",
      " [6.3 3.3 4.7 1.6]\n",
      " [7.3 2.9 6.3 1.8]\n",
      " [6.5 3.  5.5 1.8]\n",
      " [5.  3.6 1.4 0.2]\n",
      " [4.9 2.5 4.5 1.7]\n",
      " [5.  2.  3.5 1. ]\n",
      " [6.7 3.  5.  1.7]\n",
      " [5.3 3.7 1.5 0.2]\n",
      " [5.4 3.4 1.7 0.2]\n",
      " [5.  3.2 1.2 0.2]\n",
      " [7.  3.2 4.7 1.4]\n",
      " [4.9 2.4 3.3 1. ]\n",
      " [5.8 2.7 4.1 1. ]\n",
      " [6.7 2.5 5.8 1.8]\n",
      " [7.6 3.  6.6 2.1]\n",
      " [5.5 2.3 4.  1.3]\n",
      " [5.9 3.  5.1 1.8]\n",
      " [5.6 2.8 4.9 2. ]\n",
      " [6.  2.2 5.  1.5]\n",
      " [5.  3.4 1.6 0.4]\n",
      " [6.5 3.  5.2 2. ]\n",
      " [6.7 3.1 4.4 1.4]\n",
      " [5.  3.  1.6 0.2]\n",
      " [5.8 2.6 4.  1.2]\n",
      " [7.1 3.  5.9 2.1]\n",
      " [5.7 2.8 4.1 1.3]\n",
      " [4.3 3.  1.1 0.1]\n",
      " [4.9 3.6 1.4 0.1]\n",
      " [6.3 2.5 4.9 1.5]\n",
      " [5.2 2.7 3.9 1.4]\n",
      " [5.2 3.4 1.4 0.2]\n",
      " [5.5 2.4 3.7 1. ]\n",
      " [6.7 3.1 5.6 2.4]\n",
      " [4.5 2.3 1.3 0.3]\n",
      " [6.4 2.8 5.6 2.1]\n",
      " [5.5 2.5 4.  1.3]\n",
      " [4.6 3.2 1.4 0.2]\n",
      " [6.7 3.3 5.7 2.1]\n",
      " [5.1 3.5 1.4 0.2]\n",
      " [5.4 3.9 1.7 0.4]\n",
      " [5.1 3.8 1.5 0.3]\n",
      " [5.6 2.7 4.2 1.3]\n",
      " [5.5 3.5 1.3 0.2]\n",
      " [6.  2.2 4.  1. ]\n",
      " [5.9 3.  4.2 1.5]\n",
      " [7.9 3.8 6.4 2. ]\n",
      " [6.7 3.  5.2 2.3]\n",
      " [5.4 3.7 1.5 0.2]\n",
      " [6.  2.7 5.1 1.6]\n",
      " [4.4 3.  1.3 0.2]\n",
      " [6.7 3.1 4.7 1.5]\n",
      " [5.7 2.6 3.5 1. ]\n",
      " [6.4 3.2 5.3 2.3]\n",
      " [4.6 3.4 1.4 0.3]\n",
      " [7.2 3.  5.8 1.6]\n",
      " [5.  3.4 1.5 0.2]\n",
      " [6.1 2.8 4.  1.3]\n",
      " [4.8 3.  1.4 0.3]\n",
      " [5.7 2.5 5.  2. ]\n",
      " [6.3 3.4 5.6 2.4]\n",
      " [5.  3.3 1.4 0.2]\n",
      " [6.  3.4 4.5 1.6]\n",
      " [5.6 3.  4.1 1.3]\n",
      " [7.7 2.8 6.7 2. ]\n",
      " [6.4 3.2 4.5 1.5]\n",
      " [6.9 3.2 5.7 2.3]\n",
      " [7.7 3.8 6.7 2.2]\n",
      " [4.9 3.1 1.5 0.2]\n",
      " [4.6 3.6 1.  0.2]\n",
      " [6.6 2.9 4.6 1.3]\n",
      " [6.8 2.8 4.8 1.4]\n",
      " [5.  3.5 1.3 0.3]\n",
      " [4.8 3.4 1.6 0.2]\n",
      " [4.8 3.4 1.9 0.2]\n",
      " [4.9 3.  1.4 0.2]\n",
      " [5.8 2.7 5.1 1.9]\n",
      " [6.9 3.1 5.4 2.1]\n",
      " [4.7 3.2 1.3 0.2]\n",
      " [6.9 3.1 4.9 1.5]\n",
      " [6.6 3.  4.4 1.4]\n",
      " [6.1 2.8 4.7 1.2]\n",
      " [6.2 3.4 5.4 2.3]\n",
      " [6.2 2.8 4.8 1.8]\n",
      " [5.1 2.5 3.  1.1]\n",
      " [5.4 3.9 1.3 0.4]\n",
      " [6.4 2.9 4.3 1.3]\n",
      " [5.8 2.7 3.9 1.2]]\n",
      "[[ 4.61136436e-01 -2.01764155e+00  4.54555992e-01  4.51068524e-01]\n",
      " [-1.18968989e+00 -8.41583108e-02 -1.30488482e+00 -1.41018265e+00]\n",
      " [-7.18025226e-01  1.12426872e+00 -1.24812866e+00 -1.27723614e+00]\n",
      " [ 3.43220270e-01 -1.05089993e+00  1.07887370e+00  3.18122011e-01]\n",
      " [-1.28444395e-01 -3.25843716e-01  2.84287527e-01  1.85175499e-01]\n",
      " [ 1.64029810e+00  3.99212500e-01  1.30589832e+00  8.49908060e-01]\n",
      " [ 8.14884934e-01  3.99212500e-01  7.95092923e-01  1.11580108e+00]\n",
      " [ 1.64029810e+00  1.36595412e+00  1.36265447e+00  1.78053365e+00]\n",
      " [-8.35941393e-01  8.82583310e-01 -1.24812866e+00 -1.27723614e+00]\n",
      " [-9.53857559e-01 -1.77595615e+00 -2.26517869e-01 -2.13664038e-01]\n",
      " [-1.66135456e+00  3.99212500e-01 -1.36164097e+00 -1.27723614e+00]\n",
      " [ 8.14884934e-01 -5.67529121e-01  5.11312148e-01  4.51068524e-01]\n",
      " [-1.28444395e-01  1.84932493e+00 -1.13461635e+00 -1.14428962e+00]\n",
      " [-1.28444395e-01 -8.41583108e-02  2.84287527e-01  5.22289870e-02]\n",
      " [ 1.07387937e-01  3.99212500e-01  6.24824458e-01  8.49908060e-01]\n",
      " [ 1.16863343e+00  3.99212500e-01  1.24914216e+00  1.51464062e+00]\n",
      " [-1.07177373e+00  1.57527094e-01 -1.24812866e+00 -1.41018265e+00]\n",
      " [-3.64276728e-01 -1.53427074e+00  5.72629065e-02 -8.07175253e-02]\n",
      " [-1.30760606e+00  3.99212500e-01 -1.19137251e+00 -1.27723614e+00]\n",
      " [-2.46360562e-01 -1.29258534e+00  1.14019062e-01 -8.07175253e-02]\n",
      " [ 6.96968768e-01 -8.09214526e-01  9.08605233e-01  9.82854573e-01]\n",
      " [ 5.79052602e-01  6.40897905e-01  1.30589832e+00  1.78053365e+00]\n",
      " [-1.42552222e+00  1.57527094e-01 -1.24812866e+00 -1.27723614e+00]\n",
      " [-9.53857559e-01  1.12426872e+00 -1.19137251e+00 -7.45450087e-01]\n",
      " [ 5.79052602e-01 -3.25843716e-01  1.07887370e+00  8.49908060e-01]\n",
      " [ 5.79052602e-01  6.40897905e-01  5.68068303e-01  5.84015036e-01]\n",
      " [ 1.75821426e+00 -3.25843716e-01  1.47616678e+00  8.49908060e-01]\n",
      " [ 8.14884934e-01 -8.41583108e-02  1.02211754e+00  8.49908060e-01]\n",
      " [-9.53857559e-01  1.36595412e+00 -1.30488482e+00 -1.27723614e+00]\n",
      " [-1.07177373e+00 -1.29258534e+00  4.54555992e-01  7.16961548e-01]\n",
      " [-9.53857559e-01 -2.50101236e+00 -1.13005559e-01 -2.13664038e-01]\n",
      " [ 1.05071727e+00 -8.41583108e-02  7.38336768e-01  7.16961548e-01]\n",
      " [-6.00109060e-01  1.60763953e+00 -1.24812866e+00 -1.27723614e+00]\n",
      " [-4.82192894e-01  8.82583310e-01 -1.13461635e+00 -1.27723614e+00]\n",
      " [-9.53857559e-01  3.99212500e-01 -1.41839713e+00 -1.27723614e+00]\n",
      " [ 1.40446577e+00  3.99212500e-01  5.68068303e-01  3.18122011e-01]\n",
      " [-1.07177373e+00 -1.53427074e+00 -2.26517869e-01 -2.13664038e-01]\n",
      " [-1.05282291e-02 -8.09214526e-01  2.27531372e-01 -2.13664038e-01]\n",
      " [ 1.05071727e+00 -1.29258534e+00  1.19238601e+00  8.49908060e-01]\n",
      " [ 2.11196276e+00 -8.41583108e-02  1.64643525e+00  1.24874760e+00]\n",
      " [-3.64276728e-01 -1.77595615e+00  1.70775217e-01  1.85175499e-01]\n",
      " [ 1.07387937e-01 -8.41583108e-02  7.95092923e-01  8.49908060e-01]\n",
      " [-2.46360562e-01 -5.67529121e-01  6.81580613e-01  1.11580108e+00]\n",
      " [ 2.25304103e-01 -2.01764155e+00  7.38336768e-01  4.51068524e-01]\n",
      " [-9.53857559e-01  8.82583310e-01 -1.19137251e+00 -1.01134311e+00]\n",
      " [ 8.14884934e-01 -8.41583108e-02  8.51849078e-01  1.11580108e+00]\n",
      " [ 1.05071727e+00  1.57527094e-01  3.97799837e-01  3.18122011e-01]\n",
      " [-9.53857559e-01 -8.41583108e-02 -1.19137251e+00 -1.27723614e+00]\n",
      " [-1.05282291e-02 -1.05089993e+00  1.70775217e-01  5.22289870e-02]\n",
      " [ 1.52238193e+00 -8.41583108e-02  1.24914216e+00  1.24874760e+00]\n",
      " [-1.28444395e-01 -5.67529121e-01  2.27531372e-01  1.85175499e-01]\n",
      " [-1.77927072e+00 -8.41583108e-02 -1.47515328e+00 -1.41018265e+00]\n",
      " [-1.07177373e+00  1.36595412e+00 -1.30488482e+00 -1.41018265e+00]\n",
      " [ 5.79052602e-01 -1.29258534e+00  6.81580613e-01  4.51068524e-01]\n",
      " [-7.18025226e-01 -8.09214526e-01  1.14019062e-01  3.18122011e-01]\n",
      " [-7.18025226e-01  8.82583310e-01 -1.30488482e+00 -1.27723614e+00]\n",
      " [-3.64276728e-01 -1.53427074e+00  5.06751385e-04 -2.13664038e-01]\n",
      " [ 1.05071727e+00  1.57527094e-01  1.07887370e+00  1.64758713e+00]\n",
      " [-1.54343839e+00 -1.77595615e+00 -1.36164097e+00 -1.14428962e+00]\n",
      " [ 6.96968768e-01 -5.67529121e-01  1.07887370e+00  1.24874760e+00]\n",
      " [-3.64276728e-01 -1.29258534e+00  1.70775217e-01  1.85175499e-01]\n",
      " [-1.42552222e+00  3.99212500e-01 -1.30488482e+00 -1.27723614e+00]\n",
      " [ 1.05071727e+00  6.40897905e-01  1.13562985e+00  1.24874760e+00]\n",
      " [-8.35941393e-01  1.12426872e+00 -1.30488482e+00 -1.27723614e+00]\n",
      " [-4.82192894e-01  2.09101034e+00 -1.13461635e+00 -1.01134311e+00]\n",
      " [-8.35941393e-01  1.84932493e+00 -1.24812866e+00 -1.14428962e+00]\n",
      " [-2.46360562e-01 -8.09214526e-01  2.84287527e-01  1.85175499e-01]\n",
      " [-3.64276728e-01  1.12426872e+00 -1.36164097e+00 -1.27723614e+00]\n",
      " [ 2.25304103e-01 -2.01764155e+00  1.70775217e-01 -2.13664038e-01]\n",
      " [ 1.07387937e-01 -8.41583108e-02  2.84287527e-01  4.51068524e-01]\n",
      " [ 2.46571126e+00  1.84932493e+00  1.53292294e+00  1.11580108e+00]\n",
      " [ 1.05071727e+00 -8.41583108e-02  8.51849078e-01  1.51464062e+00]\n",
      " [-4.82192894e-01  1.60763953e+00 -1.24812866e+00 -1.27723614e+00]\n",
      " [ 2.25304103e-01 -8.09214526e-01  7.95092923e-01  5.84015036e-01]\n",
      " [-1.66135456e+00 -8.41583108e-02 -1.36164097e+00 -1.27723614e+00]\n",
      " [ 1.05071727e+00  1.57527094e-01  5.68068303e-01  4.51068524e-01]\n",
      " [-1.28444395e-01 -1.05089993e+00 -1.13005559e-01 -2.13664038e-01]\n",
      " [ 6.96968768e-01  3.99212500e-01  9.08605233e-01  1.51464062e+00]\n",
      " [-1.42552222e+00  8.82583310e-01 -1.30488482e+00 -1.14428962e+00]\n",
      " [ 1.64029810e+00 -8.41583108e-02  1.19238601e+00  5.84015036e-01]\n",
      " [-9.53857559e-01  8.82583310e-01 -1.24812866e+00 -1.27723614e+00]\n",
      " [ 3.43220270e-01 -5.67529121e-01  1.70775217e-01  1.85175499e-01]\n",
      " [-1.18968989e+00 -8.41583108e-02 -1.30488482e+00 -1.14428962e+00]\n",
      " [-1.28444395e-01 -1.29258534e+00  7.38336768e-01  1.11580108e+00]\n",
      " [ 5.79052602e-01  8.82583310e-01  1.07887370e+00  1.64758713e+00]\n",
      " [-9.53857559e-01  6.40897905e-01 -1.30488482e+00 -1.27723614e+00]\n",
      " [ 2.25304103e-01  8.82583310e-01  4.54555992e-01  5.84015036e-01]\n",
      " [-2.46360562e-01 -8.41583108e-02  2.27531372e-01  1.85175499e-01]\n",
      " [ 2.22987893e+00 -5.67529121e-01  1.70319141e+00  1.11580108e+00]\n",
      " [ 6.96968768e-01  3.99212500e-01  4.54555992e-01  4.51068524e-01]\n",
      " [ 1.28654960e+00  3.99212500e-01  1.13562985e+00  1.51464062e+00]\n",
      " [ 2.22987893e+00  1.84932493e+00  1.70319141e+00  1.38169411e+00]\n",
      " [-1.07177373e+00  1.57527094e-01 -1.24812866e+00 -1.27723614e+00]\n",
      " [-1.42552222e+00  1.36595412e+00 -1.53190944e+00 -1.27723614e+00]\n",
      " [ 9.32801101e-01 -3.25843716e-01  5.11312148e-01  1.85175499e-01]\n",
      " [ 1.16863343e+00 -5.67529121e-01  6.24824458e-01  3.18122011e-01]\n",
      " [-9.53857559e-01  1.12426872e+00 -1.36164097e+00 -1.14428962e+00]\n",
      " [-1.18968989e+00  8.82583310e-01 -1.19137251e+00 -1.27723614e+00]\n",
      " [-1.18968989e+00  8.82583310e-01 -1.02110404e+00 -1.27723614e+00]\n",
      " [-1.07177373e+00 -8.41583108e-02 -1.30488482e+00 -1.27723614e+00]\n",
      " [-1.05282291e-02 -8.09214526e-01  7.95092923e-01  9.82854573e-01]\n",
      " [ 1.28654960e+00  1.57527094e-01  9.65361389e-01  1.24874760e+00]\n",
      " [-1.30760606e+00  3.99212500e-01 -1.36164097e+00 -1.27723614e+00]\n",
      " [ 1.28654960e+00  1.57527094e-01  6.81580613e-01  4.51068524e-01]\n",
      " [ 9.32801101e-01 -8.41583108e-02  3.97799837e-01  3.18122011e-01]\n",
      " [ 3.43220270e-01 -5.67529121e-01  5.68068303e-01  5.22289870e-02]\n",
      " [ 4.61136436e-01  8.82583310e-01  9.65361389e-01  1.51464062e+00]\n",
      " [ 4.61136436e-01 -5.67529121e-01  6.24824458e-01  8.49908060e-01]\n",
      " [-8.35941393e-01 -1.29258534e+00 -3.96786335e-01 -8.07175253e-02]\n",
      " [-4.82192894e-01  2.09101034e+00 -1.36164097e+00 -1.01134311e+00]\n",
      " [ 6.96968768e-01 -3.25843716e-01  3.41043682e-01  1.85175499e-01]\n",
      " [-1.05282291e-02 -8.09214526e-01  1.14019062e-01  5.22289870e-02]]\n"
     ]
    }
   ],
   "source": [
    "columns=['sepal length (cm)', 'sepal width (cm)', 'petal length (cm)', 'petal width (cm)']\n",
    "\n",
    "print(X_train)\n",
    "print(X_train_sc)\n"
   ]
  },
  {
   "attachments": {},
   "cell_type": "markdown",
   "metadata": {},
   "source": [
    "Podobnie jak w przypadku modeli regresji funkcja `fit()` jest używana do trenowania modelu na danych treningowych problemu klasyfikacji.\n",
    "\n",
    "Funkcja `predict()` zwraca przewidywane etykiety dla danych testowych, które wcześniej nie były używane do dopasowania modelu."
   ]
  },
  {
   "cell_type": "code",
   "execution_count": 48,
   "metadata": {
    "ExecuteTime": {
     "end_time": "2024-05-24T14:55:07.927339Z",
     "start_time": "2024-05-24T14:55:07.921012Z"
    }
   },
   "outputs": [],
   "source": [
    "clf.fit(X_train, Y_train)\n",
    "Y_pred = clf.predict(X_test)"
   ]
  },
  {
   "attachments": {},
   "cell_type": "markdown",
   "metadata": {},
   "source": [
    "### Ocena jakości modelu klasyfikacji\n",
    "\n",
    "Na poprzednich laboratoriach poznaliśmy sposoby oceny jakości predykcji modelu regresji. W zagadnieniu klasyfikacji również istnieje szereg metod pozwalających na takową ocenę - stosować je będziemy w zależnosci od problemu.\n",
    "\n",
    "Tablica pomyłek (ang. confusion matrix) to macierz $N\\times N$, gdzie $N$ to liczba klas docelowych. Jest ona używana do oceny wyników modeli klasyfikacyjnych. Jedna z osi przedstawia prawdziwe klasy, podczas gdy druga - predykowane przez nasz model. Wartości w odpowiednich komórkach mówią o tym ile próbek zostało zaklasyfikowanych w dany sposób.\n",
    "\n",
    "Intuicyjnie dążymy do tego, by otrzymać jak najwiecęj wartości po przekątnej - tzn. by jak najwięcej klas było predykowanych jako te właściwe."
   ]
  },
  {
   "cell_type": "code",
   "execution_count": 49,
   "metadata": {
    "ExecuteTime": {
     "end_time": "2024-05-24T14:55:10.715037Z",
     "start_time": "2024-05-24T14:55:10.585816Z"
    }
   },
   "outputs": [
    {
     "data": {
      "text/plain": "<Figure size 640x480 with 2 Axes>",
      "image/png": "[encoded data removed]"
     },
     "metadata": {},
     "output_type": "display_data"
    }
   ],
   "source": [
    "from sklearn.metrics import confusion_matrix, ConfusionMatrixDisplay\n",
    "\n",
    "cm = confusion_matrix(Y_test, Y_pred, labels=[clf.classes_])\n",
    "disp = ConfusionMatrixDisplay(\n",
    "    confusion_matrix=cm,\n",
    "   display_labels=[\"Iris setosa\", \"Iris virginica\", \"Iris versicolor\"],\n",
    ")\n",
    "disp.plot()\n",
    "\n",
    "plt.show()"
   ]
  },
  {
   "attachments": {},
   "cell_type": "markdown",
   "metadata": {},
   "source": [
    "**Ćwiczenie 6:** Opisz jakie błędy popełnił klasyfikator."
   ]
  },
  {
   "cell_type": "code",
   "execution_count": 25,
   "metadata": {
    "ExecuteTime": {
     "end_time": "2024-05-24T14:54:05.124605Z",
     "start_time": "2024-05-24T14:54:05.121719Z"
    }
   },
   "outputs": [],
   "source": [
    "# Klasyfikator jeden raz określił iris versicolor jako iris virginica i to był jego błąd"
   ]
  },
  {
   "attachments": {},
   "cell_type": "markdown",
   "metadata": {},
   "source": [
    "Bazując na tablicy pomyłek jesteśmy w stanie policzyć różne metryki klasyfikacji. Najbardziej podstawową z nich jest dokładność (ang. accuracy).\n",
    "\n",
    "\\begin{equation}\n",
    "\\text{Dokładność} = \\frac{\\text{liczba poprawnie zaklasyfikowanych próbek}}{\\text{liczba wszystkich próbek}}\n",
    "\\end{equation}"
   ]
  },
  {
   "attachments": {},
   "cell_type": "markdown",
   "metadata": {},
   "source": [
    "**Ćwiczenie 7**: wykorzystując bibliotekę sklearn (moduł `sklearn.metrics`) oblicz wartość dokładności dla predykcji zbioru testowego Iris. Czy wyniki osiągnięte przez klasyfikator można uznać za dobre?"
   ]
  },
  {
   "cell_type": "code",
   "execution_count": 26,
   "metadata": {
    "ExecuteTime": {
     "end_time": "2024-05-24T14:54:05.130632Z",
     "start_time": "2024-05-24T14:54:05.125598Z"
    }
   },
   "outputs": [
    {
     "name": "stdout",
     "output_type": "stream",
     "text": [
      "0.9736842105263158\n"
     ]
    }
   ],
   "source": [
    "from sklearn.metrics import accuracy_score\n",
    "\n",
    "accs = accuracy_score(Y_test, Y_pred)\n",
    "print(accs)\n",
    "\n",
    "# Można uznać za dobre"
   ]
  },
  {
   "attachments": {},
   "cell_type": "markdown",
   "metadata": {},
   "source": [
    "Podstawą poprawnego wykonania zadania jest dobranie odpowiednich narzędzi - dokładność nie zawsze jest najlepszą metryką. Chcąc przedstawić bardziej miarodajne wnioski warto jest używać metryk takich jak precyzja (ang. precision), czułość (ang. recall) lub F1-score - przeczytaj o nich więcej w domu."
   ]
  },
  {
   "attachments": {},
   "cell_type": "markdown",
   "metadata": {},
   "source": [
    "### Wizualizacja parametrów SVM"
   ]
  },
  {
   "attachments": {},
   "cell_type": "markdown",
   "metadata": {},
   "source": [
    "Poniższy kod wizualizuje granice decyzyjne dla różnych przykładów SVMów. Poeksperymentuj poprzez podanie różnych wartości parametrów.\n",
    "\n",
    "\n",
    "Oryginalna implementacja poniższego kodu znajduje się [tutaj](https://scikit-learn.org/stable/auto_examples/exercises/plot_iris_exercise.html#sphx-glr-auto-examples-exercises-plot-iris-exercise-py)."
   ]
  },
  {
   "cell_type": "code",
   "execution_count": 27,
   "metadata": {
    "ExecuteTime": {
     "end_time": "2024-05-24T14:54:05.139420Z",
     "start_time": "2024-05-24T14:54:05.131629Z"
    }
   },
   "outputs": [],
   "source": [
    "import numpy as np\n",
    "import matplotlib.pyplot as plt\n",
    "from sklearn import datasets, svm\n",
    "from sklearn.model_selection import train_test_split\n",
    "\n",
    "iris = datasets.load_iris()\n",
    "X = iris.data\n",
    "y = iris.target\n",
    "\n",
    "# Chcemy analizować klasyfikację tylko pomiędzy dwiema klasami\n",
    "X = X[y != 0, :2]\n",
    "y = y[y != 0]\n",
    "\n",
    "X_train, X_test, y_train, y_test = train_test_split(X, y, train_size=0.75, random_state=42, shuffle=True)\n",
    "\n",
    "y_train = y_train.astype(float)\n",
    "y_test = y_test.astype(float)"
   ]
  },
  {
   "cell_type": "code",
   "execution_count": 28,
   "metadata": {
    "ExecuteTime": {
     "end_time": "2024-05-24T14:54:05.485737Z",
     "start_time": "2024-05-24T14:54:05.140421Z"
    }
   },
   "outputs": [
    {
     "ename": "NameError",
     "evalue": "name 'C' is not defined",
     "output_type": "error",
     "traceback": [
      "\u001B[1;31m---------------------------------------------------------------------------\u001B[0m",
      "\u001B[1;31mNameError\u001B[0m                                 Traceback (most recent call last)",
      "Cell \u001B[1;32mIn[28], line 14\u001B[0m\n\u001B[0;32m     12\u001B[0m \u001B[38;5;28;01mfor\u001B[39;00m c \u001B[38;5;129;01min\u001B[39;00m Cs:\n\u001B[0;32m     13\u001B[0m     \u001B[38;5;28;01mfor\u001B[39;00m gamma \u001B[38;5;129;01min\u001B[39;00m gammas:\n\u001B[1;32m---> 14\u001B[0m         clf \u001B[38;5;241m=\u001B[39m svm\u001B[38;5;241m.\u001B[39mSVC(kernel\u001B[38;5;241m=\u001B[39mkernel, gamma\u001B[38;5;241m=\u001B[39mgamma, C\u001B[38;5;241m=\u001B[39mC)\n\u001B[0;32m     15\u001B[0m         clf\u001B[38;5;241m.\u001B[39mfit(X_train, y_train)\n\u001B[0;32m     17\u001B[0m         plt\u001B[38;5;241m.\u001B[39mfigure()\n",
      "\u001B[1;31mNameError\u001B[0m: name 'C' is not defined"
     ]
    }
   ],
   "source": [
    "X_train, X_test, y_train, y_test = train_test_split(X, y, train_size=0.75, random_state=42, shuffle=False)\n",
    "\n",
    "y_train = y_train.astype(float)\n",
    "y_test = y_test.astype(float)\n",
    "\n",
    "# Podstawowe parametry do modyfikacji, więcej parametrów znajdziesz na https://scikit-learn.org/stable/modules/generated/sklearn.svm.SVC.html\n",
    "Cs = [0, 0.5, 1, 2 , 10]\n",
    "gammas = [0, 0.5, 1, 2 ,10]\n",
    "\n",
    "# Wygeneruj wizualizację dla każdego z modeli\n",
    "for kernel in [\"rbf\"]:\n",
    "    for c in Cs:\n",
    "        for gamma in gammas:\n",
    "            clf = svm.SVC(kernel=kernel, gamma=gamma, C=C)\n",
    "            clf.fit(X_train, y_train)\n",
    "        \n",
    "            plt.figure()\n",
    "            plt.clf()\n",
    "        \n",
    "            # Zwizualizuj wszystkie próbki\n",
    "            plt.scatter(\n",
    "                X[:, 0], X[:, 1], c=y, zorder=10, cmap=plt.cm.Paired, edgecolor=\"k\", s=20\n",
    "            )\n",
    "            \n",
    "            \n",
    "        \n",
    "            # Zaznacz okręgiem dane testowe\n",
    "            plt.scatter(\n",
    "                X_test[:, 0], X_test[:, 1], s=80, facecolors=\"none\", zorder=10, edgecolor=\"k\"\n",
    "            )\n",
    "        \n",
    "            plt.axis(\"tight\")\n",
    "            x_min = X[:, 0].min()\n",
    "            x_max = X[:, 0].max()\n",
    "            y_min = X[:, 1].min()\n",
    "            y_max = X[:, 1].max()\n",
    "        \n",
    "            XX, YY = np.mgrid[x_min:x_max:200j, y_min:y_max:200j]\n",
    "            Z = clf.decision_function(np.c_[XX.ravel(), YY.ravel()])\n",
    "        \n",
    "            # Wykreśl granicę decyzyjną\n",
    "            Z = Z.reshape(XX.shape)\n",
    "            plt.pcolormesh(XX, YY, Z > 0, cmap=plt.cm.Paired)\n",
    "            plt.contour(\n",
    "                XX,\n",
    "                YY,\n",
    "                Z,\n",
    "                colors=[\"k\", \"k\", \"k\"],\n",
    "                linestyles=[\"--\", \"-\", \"--\"],\n",
    "                levels=[-0.5, 0, 0.5],\n",
    "            )\n",
    "        \n",
    "            plt.title(kernel + f\" C: {c} Gamma: {gamma}\")\n",
    "plt.show()"
   ]
  },
  {
   "attachments": {},
   "cell_type": "markdown",
   "metadata": {},
   "source": [
    "**Ćwiczenie 8**: Poznaliśmy do tej pory różne parametry maszyny wektorów nośnych (C, gamma) oraz operacje które warto wykonać przed przekazaniem danych do modelu (skalowanie danych). Sprawdź wpływ ww. czynników na wyniki SVM na zbiorze Iris. Pamiętaj o zachowaniu miarodajności wyników poprzez użycie tych samych zbiorów oraz losowości!"
   ]
  },
  {
   "cell_type": "code",
   "execution_count": null,
   "metadata": {},
   "outputs": [],
   "source": []
  }
 ],
 "metadata": {
  "colab": {
   "collapsed_sections": [],
   "name": "MSiD_3_metoda najmniejszych kwadratów.ipynb",
   "provenance": []
  },
  "kernelspec": {
   "name": "python3",
   "language": "python",
   "display_name": "Python 3 (ipykernel)"
  },
  "language_info": {
   "codemirror_mode": {
    "name": "ipython",
    "version": 3
   },
   "file_extension": ".py",
   "mimetype": "text/x-python",
   "name": "python",
   "nbconvert_exporter": "python",
   "pygments_lexer": "ipython3",
   "version": "3.8.13"
  }
 },
 "nbformat": 4,
 "nbformat_minor": 0
}
